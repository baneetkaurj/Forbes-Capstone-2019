{
 "cells": [
  {
   "cell_type": "code",
   "execution_count": 29,
   "metadata": {},
   "outputs": [],
   "source": [
    "import html2text\n",
    "import re\n",
    "import pandas as pd\n",
    "import spacy as sp\n",
    "\n",
    "#pip install spacy\n",
    "#python -m spacy download en\n",
    "\n",
    "spacy_nlp = sp.load('en', disable=['parser', 'ner', 'textcat'])\n",
    "spacy_stopwords = sp.lang.en.stop_words.STOP_WORDS\n",
    "\n",
    "df = pd.read_csv('saved2017.csv', nrows=500)\n",
    "body_raw = df['body']\n",
    "body_prepro = []\n",
    "\n",
    "for line in body_raw:\n",
    "    line1 = re.sub(r'<a.*>', \"{link}\", line)\n",
    "    line2 = re.sub(r'<img.*>', \"{image}\", line1)\n",
    "    line3 = re.sub(r'<video.*>', \"{video}\", line2)\n",
    "    line4 = html2text.html2text(line3)\n",
    "    doc = spacy_nlp(line4)\n",
    "    lem = ''\n",
    "    for token in doc:\n",
    "        if token.lemma_ not in spacy_stopwords:\n",
    "            lem += token.lemma_ + ' '\n",
    "    body_prepro.append(lem)\n",
    "df['body_new']=body_prepro\n",
    "\n",
    "i = 1\n",
    "for line in body_prepro:\n",
    "    #print(i)\n",
    "    i = i + 1\n",
    "    #print(line)\n",
    "#print(\"------------------------------------------------------------------------------------------------------------\")"
   ]
  },
  {
   "cell_type": "code",
   "execution_count": null,
   "metadata": {},
   "outputs": [],
   "source": [
    "df1=df['body_new'] "
   ]
  },
  {
   "cell_type": "code",
   "execution_count": null,
   "metadata": {},
   "outputs": [],
   "source": [
    "import numpy as np\n",
    "import pandas as pd\n",
    "from sklearn.feature_extraction.text import CountVectorizer\n",
    "from sklearn.model_selection import train_test_split\n",
    "from sklearn.feature_extraction.text import TfidfTransformer\n",
    "from sklearn.pipeline import Pipeline\n",
    "from sklearn.linear_model import SGDClassifier\n",
    "from sklearn.linear_model import LogisticRegression\n",
    "from sklearn import linear_model\n",
    "from  matplotlib import pyplot as plt\n",
    "from sklearn.model_selection import cross_val_score\n",
    "\n",
    "from sklearn.base import TransformerMixin\n",
    "\n",
    "class DenseTransformer(TransformerMixin):\n",
    "\n",
    "   def fit(self, X, y=None, **fit_params):\n",
    "       return self\n",
    "\n",
    "   def transform(self, X, y=None, **fit_params):\n",
    "       return X.todense()\n",
    "\n",
    "df=pd.read_csv('saved2017.csv',nrows=500)\n",
    "df2=df['pageviews']"
   ]
  },
  {
   "cell_type": "code",
   "execution_count": null,
   "metadata": {},
   "outputs": [],
   "source": [
    "from sklearn.feature_selection import SelectKBest, f_classif\n",
    "\n",
    "kbest = SelectKBest(k=10000)"
   ]
  },
  {
   "cell_type": "code",
   "execution_count": 5,
   "metadata": {},
   "outputs": [],
   "source": [
    "count_vect = CountVectorizer(kbest)\n",
    "x = count_vect.fit_transform(df1)\n",
    "bag_of_words = count_vect.get_feature_names()\n",
    "# Creating TFIDF matrix\n",
    "transformer = TfidfTransformer()\n",
    "y = transformer.fit_transform(x)"
   ]
  },
  {
   "cell_type": "code",
   "execution_count": 6,
   "metadata": {},
   "outputs": [
    {
     "name": "stdout",
     "output_type": "stream",
     "text": [
      "The bins are: [12274.84693877551, 160963.75, 292751.0]\n"
     ]
    }
   ],
   "source": [
    "import numpy\n",
    "data = df2\n",
    "bins=np.linspace(min(df2),max(df2),4)\n",
    "digitized = numpy.digitize(data, bins)\n",
    "clus = [data[digitized == i].mean() for i in range(1, len(bins))]\n",
    "print(\"The bins are:\",clus)\n",
    "views2 = []\n",
    "def categorize(l,t2):\n",
    "    del t2[:]\n",
    "    for num in l:\n",
    "        if num <=clus[0]:\n",
    "            t2.append(int(clus[0]))\n",
    "        elif num <=bins[2]:\n",
    "            t2.append(int(clus[1]))\n",
    "        else:\n",
    "            t2.append(int(clus[2]))\n",
    "categorize(df2,views2)"
   ]
  },
  {
   "cell_type": "code",
   "execution_count": 7,
   "metadata": {},
   "outputs": [],
   "source": [
    "X_train, X_test, Y_train, Y_test = train_test_split(df1, views2, test_size = 0.20, random_state = 42)"
   ]
  },
  {
   "cell_type": "code",
   "execution_count": 8,
   "metadata": {},
   "outputs": [
    {
     "name": "stderr",
     "output_type": "stream",
     "text": [
      "C:\\Users\\baneetkaurj\\Anaconda3\\lib\\site-packages\\sklearn\\linear_model\\logistic.py:433: FutureWarning: Default solver will be changed to 'lbfgs' in 0.22. Specify a solver to silence this warning.\n",
      "  FutureWarning)\n",
      "C:\\Users\\baneetkaurj\\Anaconda3\\lib\\site-packages\\sklearn\\linear_model\\logistic.py:460: FutureWarning: Default multi_class will be changed to 'auto' in 0.22. Specify the multi_class option to silence this warning.\n",
      "  \"this warning.\", FutureWarning)\n"
     ]
    },
    {
     "name": "stdout",
     "output_type": "stream",
     "text": [
      " Accuracy : [0.65]\n"
     ]
    }
   ],
   "source": [
    "scores=[]\n",
    "\n",
    "text_clf = Pipeline([('x', CountVectorizer()), ('to_dense', DenseTransformer()),('kbest',kbest),\n",
    "                     ('clf', LogisticRegression(),)])\n",
    "\n",
    "text_clf.fit(X_train,Y_train)\n",
    "lgs_predictions = text_clf.predict(X_test)\n",
    "scores.append( np.mean(lgs_predictions == Y_test))\n",
    "print(' Accuracy :' , scores)"
   ]
  },
  {
   "cell_type": "code",
   "execution_count": 9,
   "metadata": {},
   "outputs": [
    {
     "name": "stdout",
     "output_type": "stream",
     "text": [
      "              precision    recall  f1-score   support\n",
      "\n",
      "     class 0       0.65      0.90      0.75        59\n",
      "     class 1       0.67      0.29      0.41        41\n",
      "\n",
      "   micro avg       0.65      0.65      0.65       100\n",
      "   macro avg       0.66      0.60      0.58       100\n",
      "weighted avg       0.65      0.65      0.61       100\n",
      "\n"
     ]
    }
   ],
   "source": [
    "from sklearn.metrics import classification_report\n",
    "target_names = ['class 0', 'class 1']\n",
    "\n",
    "print(classification_report(Y_test, lgs_predictions, target_names=target_names))"
   ]
  },
  {
   "cell_type": "code",
   "execution_count": 10,
   "metadata": {},
   "outputs": [
    {
     "name": "stdout",
     "output_type": "stream",
     "text": [
      "[0.65, 0.67]\n"
     ]
    }
   ],
   "source": [
    "text_clf = Pipeline([('x', CountVectorizer()), ('to_dense', DenseTransformer()), ('kbest',kbest),\n",
    "                     ('clf', SGDClassifier(loss='hinge',tol=0.1),)])\n",
    "\n",
    "text_clf.fit(X_train,Y_train)\n",
    "dt_predictions = text_clf.predict(X_test)\n",
    "scores.append( np.mean(dt_predictions == Y_test))\n",
    "print(scores)"
   ]
  },
  {
   "cell_type": "code",
   "execution_count": 11,
   "metadata": {},
   "outputs": [
    {
     "name": "stdout",
     "output_type": "stream",
     "text": [
      "              precision    recall  f1-score   support\n",
      "\n",
      "     class 0       0.66      0.92      0.77        59\n",
      "     class 1       0.72      0.32      0.44        41\n",
      "\n",
      "   micro avg       0.67      0.67      0.67       100\n",
      "   macro avg       0.69      0.62      0.60       100\n",
      "weighted avg       0.68      0.67      0.63       100\n",
      "\n"
     ]
    }
   ],
   "source": [
    "from sklearn.metrics import classification_report\n",
    "target_names = ['class 0', 'class 1']\n",
    "\n",
    "print(classification_report(Y_test, dt_predictions, target_names=target_names))"
   ]
  },
  {
   "cell_type": "code",
   "execution_count": 12,
   "metadata": {},
   "outputs": [
    {
     "name": "stderr",
     "output_type": "stream",
     "text": [
      "C:\\Users\\baneetkaurj\\Anaconda3\\lib\\site-packages\\sklearn\\linear_model\\logistic.py:460: FutureWarning: Default multi_class will be changed to 'auto' in 0.22. Specify the multi_class option to silence this warning.\n",
      "  \"this warning.\", FutureWarning)\n",
      "C:\\Users\\baneetkaurj\\Anaconda3\\lib\\site-packages\\sklearn\\model_selection\\_split.py:2053: FutureWarning: You should specify a value for 'cv' instead of relying on the default value. The default value will change from 3 to 5 in version 0.22.\n",
      "  warnings.warn(CV_WARNING, FutureWarning)\n",
      "C:\\Users\\baneetkaurj\\Anaconda3\\lib\\site-packages\\sklearn\\model_selection\\_split.py:652: Warning: The least populated class in y has only 2 members, which is too few. The minimum number of members in any class cannot be less than n_splits=3.\n",
      "  % (min_groups, self.n_splits)), Warning)\n"
     ]
    },
    {
     "name": "stdout",
     "output_type": "stream",
     "text": [
      " Accuracy : [0.65, 0.67, 0.66]\n"
     ]
    }
   ],
   "source": [
    "from sklearn.linear_model import LogisticRegressionCV\n",
    "\n",
    "text_clf = Pipeline([('x', CountVectorizer()), ('to_dense', DenseTransformer()),('kbest',kbest),\n",
    "                     ('clf', LogisticRegressionCV(max_iter=1000),)])\n",
    "\n",
    "text_clf.fit(X_train,Y_train)\n",
    "lgscv_predictions = text_clf.predict(X_test)\n",
    "scores.append( np.mean(lgscv_predictions == Y_test))\n",
    "print(' Accuracy :' , scores)"
   ]
  },
  {
   "cell_type": "code",
   "execution_count": 13,
   "metadata": {},
   "outputs": [
    {
     "name": "stdout",
     "output_type": "stream",
     "text": [
      "              precision    recall  f1-score   support\n",
      "\n",
      "     class 0       0.65      0.93      0.76        59\n",
      "     class 1       0.73      0.27      0.39        41\n",
      "\n",
      "   micro avg       0.66      0.66      0.66       100\n",
      "   macro avg       0.69      0.60      0.58       100\n",
      "weighted avg       0.68      0.66      0.61       100\n",
      "\n"
     ]
    }
   ],
   "source": [
    "from sklearn.metrics import classification_report\n",
    "target_names = ['class 0', 'class 1']\n",
    "\n",
    "print(classification_report(Y_test, lgscv_predictions, target_names=target_names))"
   ]
  },
  {
   "cell_type": "code",
   "execution_count": 14,
   "metadata": {},
   "outputs": [
    {
     "name": "stdout",
     "output_type": "stream",
     "text": [
      "[0.65, 0.67, 0.66, 0.69]\n"
     ]
    }
   ],
   "source": [
    "from sklearn.ensemble import GradientBoostingClassifier\n",
    "\n",
    "text_clf = Pipeline([('x', CountVectorizer()), ('to_dense', DenseTransformer()), ('kbest',kbest),\n",
    "                     ('clf', GradientBoostingClassifier(),)])\n",
    "\n",
    "text_clf.fit(X_train,Y_train)\n",
    "gbc_predictions = text_clf.predict(X_test)\n",
    "scores.append( np.mean(gbc_predictions == Y_test))\n",
    "print(scores)"
   ]
  },
  {
   "cell_type": "code",
   "execution_count": 15,
   "metadata": {},
   "outputs": [
    {
     "name": "stdout",
     "output_type": "stream",
     "text": [
      "              precision    recall  f1-score   support\n",
      "\n",
      "     class 0       0.67      0.95      0.78        59\n",
      "     class 1       0.81      0.32      0.46        41\n",
      "\n",
      "   micro avg       0.69      0.69      0.69       100\n",
      "   macro avg       0.74      0.63      0.62       100\n",
      "weighted avg       0.73      0.69      0.65       100\n",
      "\n"
     ]
    }
   ],
   "source": [
    "from sklearn.metrics import classification_report\n",
    "target_names = ['class 0', 'class 1']\n",
    "\n",
    "print(classification_report(Y_test, gbc_predictions, target_names=target_names))"
   ]
  },
  {
   "cell_type": "code",
   "execution_count": 16,
   "metadata": {},
   "outputs": [
    {
     "name": "stdout",
     "output_type": "stream",
     "text": [
      "[0.65, 0.67, 0.66, 0.69, 0.72]\n"
     ]
    }
   ],
   "source": [
    "from sklearn.naive_bayes import MultinomialNB\n",
    "text_clf = Pipeline([('x', CountVectorizer()), ('to_dense', DenseTransformer()), ('kbest',kbest),\n",
    "                     ('clf', MultinomialNB(),)])\n",
    "\n",
    "text_clf.fit(X_train,Y_train)\n",
    "mnb_predictions = text_clf.predict(X_test)\n",
    "scores.append( np.mean(mnb_predictions == Y_test))\n",
    "print(scores)"
   ]
  },
  {
   "cell_type": "code",
   "execution_count": 17,
   "metadata": {},
   "outputs": [
    {
     "name": "stdout",
     "output_type": "stream",
     "text": [
      "              precision    recall  f1-score   support\n",
      "\n",
      "     class 0       0.69      0.95      0.80        59\n",
      "     class 1       0.84      0.39      0.53        41\n",
      "\n",
      "   micro avg       0.72      0.72      0.72       100\n",
      "   macro avg       0.77      0.67      0.67       100\n",
      "weighted avg       0.75      0.72      0.69       100\n",
      "\n"
     ]
    }
   ],
   "source": [
    "from sklearn.metrics import classification_report\n",
    "target_names = ['class 0', 'class 1']\n",
    "\n",
    "print(classification_report(Y_test, mnb_predictions, target_names=target_names))"
   ]
  },
  {
   "cell_type": "code",
   "execution_count": 18,
   "metadata": {},
   "outputs": [
    {
     "name": "stdout",
     "output_type": "stream",
     "text": [
      "[0.65, 0.67, 0.66, 0.69, 0.72, 0.67]\n"
     ]
    }
   ],
   "source": [
    "from xgboost import XGBClassifier\n",
    "text_clf = Pipeline([('x', CountVectorizer()), ('to_dense', DenseTransformer()), ('kbest',kbest),\n",
    "                     ('clf', XGBClassifier(),)])\n",
    "text_clf.fit(X_train,Y_train)\n",
    "xgb_predictions = text_clf.predict(X_test)\n",
    "scores.append( np.mean(xgb_predictions == Y_test))\n",
    "print(scores)"
   ]
  },
  {
   "cell_type": "code",
   "execution_count": 19,
   "metadata": {},
   "outputs": [
    {
     "name": "stdout",
     "output_type": "stream",
     "text": [
      "              precision    recall  f1-score   support\n",
      "\n",
      "     class 0       0.65      0.93      0.77        59\n",
      "     class 1       0.75      0.29      0.42        41\n",
      "\n",
      "   micro avg       0.67      0.67      0.67       100\n",
      "   macro avg       0.70      0.61      0.60       100\n",
      "weighted avg       0.69      0.67      0.63       100\n",
      "\n"
     ]
    }
   ],
   "source": [
    "from sklearn.metrics import classification_report\n",
    "target_names = ['class 0', 'class 1']\n",
    "\n",
    "print(classification_report(Y_test, xgb_predictions, target_names=target_names))"
   ]
  },
  {
   "cell_type": "code",
   "execution_count": 20,
   "metadata": {},
   "outputs": [
    {
     "name": "stderr",
     "output_type": "stream",
     "text": [
      "C:\\Users\\baneetkaurj\\Anaconda3\\lib\\site-packages\\sklearn\\linear_model\\logistic.py:433: FutureWarning: Default solver will be changed to 'lbfgs' in 0.22. Specify a solver to silence this warning.\n",
      "  FutureWarning)\n",
      "C:\\Users\\baneetkaurj\\Anaconda3\\lib\\site-packages\\sklearn\\linear_model\\logistic.py:460: FutureWarning: Default multi_class will be changed to 'auto' in 0.22. Specify the multi_class option to silence this warning.\n",
      "  \"this warning.\", FutureWarning)\n"
     ]
    },
    {
     "name": "stdout",
     "output_type": "stream",
     "text": [
      "[0.65, 0.67, 0.66, 0.69, 0.72, 0.67, 0.69]\n"
     ]
    }
   ],
   "source": [
    "from sklearn.ensemble import  VotingClassifier\n",
    "\n",
    "clf1 = LogisticRegression()\n",
    "clf2=XGBClassifier()\n",
    "clf3=MultinomialNB()\n",
    "text_clf = Pipeline([('x', CountVectorizer()), ('to_dense', DenseTransformer()),('clf', \n",
    "                                VotingClassifier(estimators=[('lr', clf1), ('xgb', clf2),('mnb',clf3)], voting='hard'),)])\n",
    "\n",
    "text_clf.fit(X_train,Y_train)\n",
    "vc_predictions = text_clf.predict(X_test)\n",
    "scores.append( np.mean(vc_predictions == Y_test))\n",
    "print(scores)"
   ]
  },
  {
   "cell_type": "code",
   "execution_count": 21,
   "metadata": {},
   "outputs": [
    {
     "name": "stdout",
     "output_type": "stream",
     "text": [
      "              precision    recall  f1-score   support\n",
      "\n",
      "     class 0       0.66      0.97      0.79        59\n",
      "     class 1       0.86      0.29      0.44        41\n",
      "\n",
      "   micro avg       0.69      0.69      0.69       100\n",
      "   macro avg       0.76      0.63      0.61       100\n",
      "weighted avg       0.74      0.69      0.64       100\n",
      "\n"
     ]
    }
   ],
   "source": [
    "from sklearn.metrics import classification_report\n",
    "target_names = ['class 0', 'class 1']\n",
    "\n",
    "print(classification_report(Y_test, vc_predictions, target_names=target_names))"
   ]
  },
  {
   "cell_type": "code",
   "execution_count": 26,
   "metadata": {},
   "outputs": [
    {
     "data": {
      "image/png": "[encoded data removed]",
      "text/plain": [
       "<Figure size 3000x2000 with 1 Axes>"
      ]
     },
     "metadata": {},
     "output_type": "display_data"
    }
   ],
   "source": [
    "objects = ('Logistic','DenseTransformer','LogisticRegressionCV','GradientBoosting','MultinomialNB',\n",
    "           'XGBClassifier', 'VotingClassifier')\n",
    "y_pos = np.arange(len(objects))\n",
    "fig=plt.figure(figsize=(15, 10), dpi= 200, facecolor='w', edgecolor='k')\n",
    "plt.bar(y_pos, scores, align='center', alpha=0.5)\n",
    "plt.xticks(y_pos, objects)\n",
    "plt.ylabel('Accuracy Rate in Decimal')\n",
    "plt.title('Accuracy for 500')\n",
    " \n",
    "plt.show()"
   ]
  },
  {
   "cell_type": "code",
   "execution_count": null,
   "metadata": {},
   "outputs": [],
   "source": []
  }
 ],
 "metadata": {
  "kernelspec": {
   "display_name": "Python 3",
   "language": "python",
   "name": "python3"
  },
  "language_info": {
   "codemirror_mode": {
    "name": "ipython",
    "version": 3
   },
   "file_extension": ".py",
   "mimetype": "text/x-python",
   "name": "python",
   "nbconvert_exporter": "python",
   "pygments_lexer": "ipython3",
   "version": "3.7.1"
  }
 },
 "nbformat": 4,
 "nbformat_minor": 2
}
